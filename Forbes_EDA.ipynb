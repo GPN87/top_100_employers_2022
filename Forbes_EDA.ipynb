{
 "cells": [
  {
   "cell_type": "markdown",
   "id": "5e9b5b97",
   "metadata": {},
   "source": []
  },
  {
   "cell_type": "code",
   "execution_count": 1,
   "id": "18a49168",
   "metadata": {},
   "outputs": [],
   "source": [
    "import pandas as pd\n",
    "import matplotlib.pyplot as plt\n",
    "import scipy.stats as st\n",
    "import seaborn as sns\n",
    "import numpy as np\n",
    "import yfinance as yf"
   ]
  },
  {
   "cell_type": "code",
   "execution_count": 3,
   "id": "c63814ef",
   "metadata": {},
   "outputs": [
    {
     "ename": "Exception",
     "evalue": "yfinance failed to decrypt Yahoo data response",
     "output_type": "error",
     "traceback": [
      "\u001b[0;31m---------------------------------------------------------------------------\u001b[0m",
      "\u001b[0;31mException\u001b[0m                                 Traceback (most recent call last)",
      "Input \u001b[0;32mIn [3]\u001b[0m, in \u001b[0;36m<cell line: 2>\u001b[0;34m()\u001b[0m\n\u001b[1;32m      1\u001b[0m msft \u001b[38;5;241m=\u001b[39m yf\u001b[38;5;241m.\u001b[39mTicker(\u001b[38;5;124m\"\u001b[39m\u001b[38;5;124mMSFT\u001b[39m\u001b[38;5;124m\"\u001b[39m)\n\u001b[0;32m----> 2\u001b[0m \u001b[43mmsft\u001b[49m\u001b[38;5;241;43m.\u001b[39;49m\u001b[43minfo\u001b[49m\n",
      "File \u001b[0;32m~/opt/anaconda3/lib/python3.9/site-packages/yfinance/ticker.py:142\u001b[0m, in \u001b[0;36mTicker.info\u001b[0;34m(self)\u001b[0m\n\u001b[1;32m    140\u001b[0m \u001b[38;5;129m@property\u001b[39m\n\u001b[1;32m    141\u001b[0m \u001b[38;5;28;01mdef\u001b[39;00m \u001b[38;5;21minfo\u001b[39m(\u001b[38;5;28mself\u001b[39m) \u001b[38;5;241m-\u001b[39m\u001b[38;5;241m>\u001b[39m \u001b[38;5;28mdict\u001b[39m:\n\u001b[0;32m--> 142\u001b[0m     \u001b[38;5;28;01mreturn\u001b[39;00m \u001b[38;5;28;43mself\u001b[39;49m\u001b[38;5;241;43m.\u001b[39;49m\u001b[43mget_info\u001b[49m\u001b[43m(\u001b[49m\u001b[43m)\u001b[49m\n",
      "File \u001b[0;32m~/opt/anaconda3/lib/python3.9/site-packages/yfinance/base.py:1268\u001b[0m, in \u001b[0;36mTickerBase.get_info\u001b[0;34m(self, proxy)\u001b[0m\n\u001b[1;32m   1266\u001b[0m \u001b[38;5;28;01mdef\u001b[39;00m \u001b[38;5;21mget_info\u001b[39m(\u001b[38;5;28mself\u001b[39m, proxy\u001b[38;5;241m=\u001b[39m\u001b[38;5;28;01mNone\u001b[39;00m) \u001b[38;5;241m-\u001b[39m\u001b[38;5;241m>\u001b[39m \u001b[38;5;28mdict\u001b[39m:\n\u001b[1;32m   1267\u001b[0m     \u001b[38;5;28mself\u001b[39m\u001b[38;5;241m.\u001b[39m_quote\u001b[38;5;241m.\u001b[39mproxy \u001b[38;5;241m=\u001b[39m proxy\n\u001b[0;32m-> 1268\u001b[0m     data \u001b[38;5;241m=\u001b[39m \u001b[38;5;28;43mself\u001b[39;49m\u001b[38;5;241;43m.\u001b[39;49m\u001b[43m_quote\u001b[49m\u001b[38;5;241;43m.\u001b[39;49m\u001b[43minfo\u001b[49m\n\u001b[1;32m   1269\u001b[0m     \u001b[38;5;28;01mreturn\u001b[39;00m data\n",
      "File \u001b[0;32m~/opt/anaconda3/lib/python3.9/site-packages/yfinance/scrapers/quote.py:95\u001b[0m, in \u001b[0;36mQuote.info\u001b[0;34m(self)\u001b[0m\n\u001b[1;32m     92\u001b[0m \u001b[38;5;129m@property\u001b[39m\n\u001b[1;32m     93\u001b[0m \u001b[38;5;28;01mdef\u001b[39;00m \u001b[38;5;21minfo\u001b[39m(\u001b[38;5;28mself\u001b[39m) \u001b[38;5;241m-\u001b[39m\u001b[38;5;241m>\u001b[39m \u001b[38;5;28mdict\u001b[39m:\n\u001b[1;32m     94\u001b[0m     \u001b[38;5;28;01mif\u001b[39;00m \u001b[38;5;28mself\u001b[39m\u001b[38;5;241m.\u001b[39m_info \u001b[38;5;129;01mis\u001b[39;00m \u001b[38;5;28;01mNone\u001b[39;00m:\n\u001b[0;32m---> 95\u001b[0m         \u001b[38;5;28;43mself\u001b[39;49m\u001b[38;5;241;43m.\u001b[39;49m\u001b[43m_scrape\u001b[49m\u001b[43m(\u001b[49m\u001b[38;5;28;43mself\u001b[39;49m\u001b[38;5;241;43m.\u001b[39;49m\u001b[43mproxy\u001b[49m\u001b[43m)\u001b[49m\n\u001b[1;32m     96\u001b[0m         \u001b[38;5;28mself\u001b[39m\u001b[38;5;241m.\u001b[39m_scrape_complementary(\u001b[38;5;28mself\u001b[39m\u001b[38;5;241m.\u001b[39mproxy)\n\u001b[1;32m     98\u001b[0m     \u001b[38;5;28;01mreturn\u001b[39;00m \u001b[38;5;28mself\u001b[39m\u001b[38;5;241m.\u001b[39m_info\n",
      "File \u001b[0;32m~/opt/anaconda3/lib/python3.9/site-packages/yfinance/scrapers/quote.py:124\u001b[0m, in \u001b[0;36mQuote._scrape\u001b[0;34m(self, proxy)\u001b[0m\n\u001b[1;32m    121\u001b[0m \u001b[38;5;28mself\u001b[39m\u001b[38;5;241m.\u001b[39m_already_scraped \u001b[38;5;241m=\u001b[39m \u001b[38;5;28;01mTrue\u001b[39;00m\n\u001b[1;32m    123\u001b[0m \u001b[38;5;66;03m# get info and sustainability\u001b[39;00m\n\u001b[0;32m--> 124\u001b[0m json_data \u001b[38;5;241m=\u001b[39m \u001b[38;5;28;43mself\u001b[39;49m\u001b[38;5;241;43m.\u001b[39;49m\u001b[43m_data\u001b[49m\u001b[38;5;241;43m.\u001b[39;49m\u001b[43mget_json_data_stores\u001b[49m\u001b[43m(\u001b[49m\u001b[43mproxy\u001b[49m\u001b[38;5;241;43m=\u001b[39;49m\u001b[43mproxy\u001b[49m\u001b[43m)\u001b[49m\n\u001b[1;32m    125\u001b[0m \u001b[38;5;28;01mtry\u001b[39;00m:\n\u001b[1;32m    126\u001b[0m     quote_summary_store \u001b[38;5;241m=\u001b[39m json_data[\u001b[38;5;124m'\u001b[39m\u001b[38;5;124mQuoteSummaryStore\u001b[39m\u001b[38;5;124m'\u001b[39m]\n",
      "File \u001b[0;32m~/opt/anaconda3/lib/python3.9/site-packages/yfinance/data.py:41\u001b[0m, in \u001b[0;36mlru_cache_freezeargs.<locals>.wrapped\u001b[0;34m(*args, **kwargs)\u001b[0m\n\u001b[1;32m     39\u001b[0m args \u001b[38;5;241m=\u001b[39m \u001b[38;5;28mtuple\u001b[39m([\u001b[38;5;28mtuple\u001b[39m(arg) \u001b[38;5;28;01mif\u001b[39;00m \u001b[38;5;28misinstance\u001b[39m(arg, \u001b[38;5;28mlist\u001b[39m) \u001b[38;5;28;01melse\u001b[39;00m arg \u001b[38;5;28;01mfor\u001b[39;00m arg \u001b[38;5;129;01min\u001b[39;00m args])\n\u001b[1;32m     40\u001b[0m kwargs \u001b[38;5;241m=\u001b[39m {k: \u001b[38;5;28mtuple\u001b[39m(v) \u001b[38;5;28;01mif\u001b[39;00m \u001b[38;5;28misinstance\u001b[39m(v, \u001b[38;5;28mlist\u001b[39m) \u001b[38;5;28;01melse\u001b[39;00m v \u001b[38;5;28;01mfor\u001b[39;00m k, v \u001b[38;5;129;01min\u001b[39;00m kwargs\u001b[38;5;241m.\u001b[39mitems()}\n\u001b[0;32m---> 41\u001b[0m \u001b[38;5;28;01mreturn\u001b[39;00m \u001b[43mfunc\u001b[49m\u001b[43m(\u001b[49m\u001b[38;5;241;43m*\u001b[39;49m\u001b[43margs\u001b[49m\u001b[43m,\u001b[49m\u001b[43m \u001b[49m\u001b[38;5;241;43m*\u001b[39;49m\u001b[38;5;241;43m*\u001b[39;49m\u001b[43mkwargs\u001b[49m\u001b[43m)\u001b[49m\n",
      "File \u001b[0;32m~/opt/anaconda3/lib/python3.9/site-packages/yfinance/data.py:307\u001b[0m, in \u001b[0;36mTickerData.get_json_data_stores\u001b[0;34m(self, sub_page, proxy)\u001b[0m\n\u001b[1;32m    304\u001b[0m         keys \u001b[38;5;241m+\u001b[39m\u001b[38;5;241m=\u001b[39m extra_keys\n\u001b[1;32m    306\u001b[0m \u001b[38;5;66;03m# Decrypt!\u001b[39;00m\n\u001b[0;32m--> 307\u001b[0m stores \u001b[38;5;241m=\u001b[39m \u001b[43mdecrypt_cryptojs_aes_stores\u001b[49m\u001b[43m(\u001b[49m\u001b[43mdata\u001b[49m\u001b[43m,\u001b[49m\u001b[43m \u001b[49m\u001b[43mkeys\u001b[49m\u001b[43m)\u001b[49m\n\u001b[1;32m    308\u001b[0m \u001b[38;5;28;01mif\u001b[39;00m stores \u001b[38;5;129;01mis\u001b[39;00m \u001b[38;5;28;01mNone\u001b[39;00m:\n\u001b[1;32m    309\u001b[0m     \u001b[38;5;66;03m# Maybe Yahoo returned old format, not encrypted\u001b[39;00m\n\u001b[1;32m    310\u001b[0m     \u001b[38;5;28;01mif\u001b[39;00m \u001b[38;5;124m\"\u001b[39m\u001b[38;5;124mcontext\u001b[39m\u001b[38;5;124m\"\u001b[39m \u001b[38;5;129;01min\u001b[39;00m data \u001b[38;5;129;01mand\u001b[39;00m \u001b[38;5;124m\"\u001b[39m\u001b[38;5;124mdispatcher\u001b[39m\u001b[38;5;124m\"\u001b[39m \u001b[38;5;129;01min\u001b[39;00m data[\u001b[38;5;124m\"\u001b[39m\u001b[38;5;124mcontext\u001b[39m\u001b[38;5;124m\"\u001b[39m]:\n",
      "File \u001b[0;32m~/opt/anaconda3/lib/python3.9/site-packages/yfinance/data.py:162\u001b[0m, in \u001b[0;36mdecrypt_cryptojs_aes_stores\u001b[0;34m(data, keys)\u001b[0m\n\u001b[1;32m    160\u001b[0m             \u001b[38;5;28;01mpass\u001b[39;00m\n\u001b[1;32m    161\u001b[0m     \u001b[38;5;28;01mif\u001b[39;00m \u001b[38;5;129;01mnot\u001b[39;00m success:\n\u001b[0;32m--> 162\u001b[0m         \u001b[38;5;28;01mraise\u001b[39;00m \u001b[38;5;167;01mException\u001b[39;00m(\u001b[38;5;124m\"\u001b[39m\u001b[38;5;124myfinance failed to decrypt Yahoo data response\u001b[39m\u001b[38;5;124m\"\u001b[39m)\n\u001b[1;32m    164\u001b[0m decoded_stores \u001b[38;5;241m=\u001b[39m json\u001b[38;5;241m.\u001b[39mloads(plaintext)\n\u001b[1;32m    165\u001b[0m \u001b[38;5;28;01mreturn\u001b[39;00m decoded_stores\n",
      "\u001b[0;31mException\u001b[0m: yfinance failed to decrypt Yahoo data response"
     ]
    }
   ],
   "source": [
    "msft = yf.Ticker(\"MSFT\")\n",
    "msft.info"
   ]
  },
  {
   "cell_type": "markdown",
   "id": "bd5b6c18",
   "metadata": {},
   "source": [
    "## Part 1: exploratory data analysis - The Forbes 2022 list of the top 100 employers\n",
    "- Who are they?\n",
    "- Where do they operate?\n",
    "- How big are they by employee size?"
   ]
  },
  {
   "cell_type": "code",
   "execution_count": null,
   "id": "3b7223a8",
   "metadata": {},
   "outputs": [],
   "source": [
    "# The original .csv of the 'Forbes Top 100 Employer Rankings'\n",
    "# The list has been merged with each company's:\n",
    "#     a) Overall Glassdoor Rating as at January 2023\n",
    "#     b) Ticker symbol to enable financial analysis in section two\n",
    "#     c) City of Headquarters  \n",
    "\n",
    "filepath = \"resources/employers_clean.csv\"\n",
    "employers_df = pd.read_csv(filepath)"
   ]
  },
  {
   "cell_type": "code",
   "execution_count": null,
   "id": "07f45de7",
   "metadata": {},
   "outputs": [],
   "source": [
    "#initial clean of data:\n",
    "employers_df=employers_df.replace('South Kore','South Korea')\n",
    "employers_df=employers_df.rename(columns={'RANK':'Forbes Ranking','NAME':'Employer','City':'HQ City','INDUSTRIES':'Sector','EMPLOYEES':'Number of employees'})\n",
    "employers_df.set_index('Forbes Ranking')\n",
    "\n",
    "employers_df.head()"
   ]
  },
  {
   "cell_type": "code",
   "execution_count": null,
   "id": "ea7eba41",
   "metadata": {},
   "outputs": [],
   "source": [
    "#American and German companies account for more than half of the top 100\n",
    "countrygroup=employers_df.groupby('Country')\n",
    "countrygroup=countrygroup['Forbes Ranking'].count().sort_values(ascending=False)\n",
    "countrygroup"
   ]
  },
  {
   "cell_type": "code",
   "execution_count": null,
   "id": "8bf09648",
   "metadata": {},
   "outputs": [],
   "source": [
    "sectorgroup=employers_df.groupby('Sector')\n",
    "sectorgroup=sectorgroup['Sector'].count().sort_values(ascending=False)\n",
    "sectorgroup"
   ]
  },
  {
   "cell_type": "code",
   "execution_count": null,
   "id": "56b3d0d2",
   "metadata": {},
   "outputs": [],
   "source": [
    "bins=[0, 100000, 250000, 500000, 2000000]\n",
    "groups=[\"0 to \\n99,999\",\"100,000 to\\n249,999\", \"250,000 to\\n499,999\",\"500,000+\" ]\n",
    "\n",
    "# employers_df['Number of employees']=employers_df['Number of employees'].str.replace(',','')\n",
    "employers_df['Number of employees']=employers_df['Number of employees'].astype(int)\n",
    "employers_df['company_size_bins'] = pd.cut(employers_df['Number of employees'],bins,labels=groups,include_lowest=True)"
   ]
  },
  {
   "cell_type": "code",
   "execution_count": null,
   "id": "d01f16d0",
   "metadata": {},
   "outputs": [],
   "source": [
    "companysize=employers_df['company_size_bins']\n",
    "plt.hist(np.sort(companysize))\n",
    "plt.xlabel(\"Company size\", fontsize=16)\n",
    "plt.ylabel(\"Frequency\", fontsize=16)\n",
    "plt.title(\"Number of companies in Top 100 \\nby workforce size\",fontsize=16)\n",
    "plt.show()"
   ]
  },
  {
   "cell_type": "markdown",
   "id": "331a109a",
   "metadata": {},
   "source": [
    "## Part 2: Financial analysis of listed companies within Forbes list:\n",
    "- Research question: do good employers make good investments?\n",
    "- How do these companies stack up as investments on metrics such as: 12 month stock performance; return on equity, mean analysts recommendations.\n",
    "- Yfinance wrapper library used to make call to the Yahoo Finance endpoint. Provides the abovementioned metrics within a dictionary through the method 'Ticker.info()'"
   ]
  },
  {
   "cell_type": "code",
   "execution_count": null,
   "id": "7bfe11e0",
   "metadata": {},
   "outputs": [],
   "source": [
    "employers_financials=employers_df[['Forbes Ranking', 'Employer', 'TICKER','Sector','Country','Glassdoor Rating']]\n",
    "employers_financials.set_index('Forbes Ranking')"
   ]
  },
  {
   "cell_type": "code",
   "execution_count": null,
   "id": "3377318b",
   "metadata": {},
   "outputs": [],
   "source": [
    "#This removes the companies without a ticker code\n",
    "employers_reduced = employers_financials[employers_financials[\"TICKER\"] != 'none'].reset_index(drop=True)\n"
   ]
  },
  {
   "cell_type": "code",
   "execution_count": null,
   "id": "36e412a7",
   "metadata": {},
   "outputs": [],
   "source": [
    "#This adds new columns for the data that will be brought in using Yfinance\n",
    "employers_reduced['1 year stock performance']=\"\"\n",
    "employers_reduced['return on equity']=\"\"\n",
    "employers_reduced['Analyst Recommendation Mean']=\"\"\n",
    "employers_reduced"
   ]
  },
  {
   "cell_type": "code",
   "execution_count": null,
   "id": "ee65a8d4",
   "metadata": {},
   "outputs": [],
   "source": [
    "#This sets up a loop through the rows in the table and searchs each company on its ticker code\n",
    "#The relevant information is added to the empty columns.\n",
    "#It also prints the company information to the screen.\n",
    "#If any of the data is missing, the loop returns \"No data found\"\n",
    "\n",
    "print('Finding stock data..')\n",
    "print(\"-\"*20)\n",
    "for index,row in employers_reduced.iterrows():\n",
    "    company=employers_reduced.loc[index,'Employer']\n",
    "    ticker=employers_reduced.loc[index,'TICKER']\n",
    "    stock_data=yf.Ticker(ticker)\n",
    "    try:\n",
    "        employers_reduced.loc[index, \"1 year stock performance\"]=round(stock_data.info[\"52WeekChange\"]*100,2)\n",
    "        employers_reduced.loc[index, \"return on equity\"]=round(stock_data.info[\"returnOnEquity\"]*100,2)\n",
    "        employers_reduced.loc[index, \"Analyst Recommendation Mean\"]=stock_data.info['recommendationMean']\n",
    "        \n",
    "    except:\n",
    "        employers_reduced.loc[index, \"1 year stock performance\"]=\"No data found\"\n",
    "        employers_reduced.loc[index, \"return on equity\"]=\"No data found\"\n",
    "        employers_reduced.loc[index, \"Analyst Recommendation Mean\"]=\"No data found\"\n",
    "        \n",
    "        \n",
    "    print(f\"{company} ({ticker}): {employers_reduced.loc[index, '1 year stock performance']}% 1yr stock performance; {employers_reduced.loc[index, 'return on equity']}% RoE; Mean Analyst Rec: {employers_reduced.loc[index, 'Analyst Recommendation Mean']}\")\n",
    "    print(\"-\"*20)\n",
    "\n",
    "employers_reduced"
   ]
  },
  {
   "cell_type": "code",
   "execution_count": null,
   "id": "0c120137",
   "metadata": {},
   "outputs": [],
   "source": []
  }
 ],
 "metadata": {
  "kernelspec": {
   "display_name": "Python 3 (ipykernel)",
   "language": "python",
   "name": "python3"
  },
  "language_info": {
   "codemirror_mode": {
    "name": "ipython",
    "version": 3
   },
   "file_extension": ".py",
   "mimetype": "text/x-python",
   "name": "python",
   "nbconvert_exporter": "python",
   "pygments_lexer": "ipython3",
   "version": "3.9.12"
  }
 },
 "nbformat": 4,
 "nbformat_minor": 5
}
