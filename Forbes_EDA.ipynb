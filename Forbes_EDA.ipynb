{
 "cells": [
  {
   "cell_type": "markdown",
   "id": "5e9b5b97",
   "metadata": {},
   "source": []
  },
  {
   "cell_type": "code",
   "execution_count": 4,
   "id": "18a49168",
   "metadata": {},
   "outputs": [],
   "source": [
    "import pandas as pd\n",
    "import matplotlib.pyplot as plt\n",
    "import scipy.stats as st\n",
    "import seaborn as sns\n",
    "import numpy as np\n",
    "import yfinance as yf"
   ]
  },
  {
   "cell_type": "code",
   "execution_count": null,
   "id": "c63814ef",
   "metadata": {},
   "outputs": [],
   "source": []
  },
  {
   "cell_type": "markdown",
   "id": "bd5b6c18",
   "metadata": {},
   "source": [
    "## Part 1: exploratory data analysis - The Forbes 2022 list of the top 100 employers\n",
    "- Who are they?\n",
    "- Where do they operate?\n",
    "- How big are they by employee size?"
   ]
  },
  {
   "cell_type": "code",
   "execution_count": 5,
   "id": "3b7223a8",
   "metadata": {},
   "outputs": [],
   "source": [
    "# The original .csv of the 'Forbes Top 100 Employer Rankings'\n",
    "# The list has been merged with each company's:\n",
    "#     a) Overall Glassdoor Rating as at January 2023\n",
    "#     b) Ticker symbol to enable financial analysis in section two\n",
    "#     c) City of Headquarters  \n",
    "\n",
    "filepath = \"resources/employers_clean.csv\"\n",
    "employers_df = pd.read_csv(filepath)"
   ]
  },
  {
   "cell_type": "code",
   "execution_count": 6,
   "id": "07f45de7",
   "metadata": {},
   "outputs": [
    {
     "data": {
      "text/html": [
       "<div>\n",
       "<style scoped>\n",
       "    .dataframe tbody tr th:only-of-type {\n",
       "        vertical-align: middle;\n",
       "    }\n",
       "\n",
       "    .dataframe tbody tr th {\n",
       "        vertical-align: top;\n",
       "    }\n",
       "\n",
       "    .dataframe thead th {\n",
       "        text-align: right;\n",
       "    }\n",
       "</style>\n",
       "<table border=\"1\" class=\"dataframe\">\n",
       "  <thead>\n",
       "    <tr style=\"text-align: right;\">\n",
       "      <th></th>\n",
       "      <th>Forbes Ranking</th>\n",
       "      <th>Employer</th>\n",
       "      <th>TICKER</th>\n",
       "      <th>Sector</th>\n",
       "      <th>Country</th>\n",
       "      <th>Number of employees</th>\n",
       "      <th>Glassdoor Rating</th>\n",
       "      <th>HQ City</th>\n",
       "    </tr>\n",
       "  </thead>\n",
       "  <tbody>\n",
       "    <tr>\n",
       "      <th>0</th>\n",
       "      <td>1</td>\n",
       "      <td>Samsung Electronics</td>\n",
       "      <td>005930.KS</td>\n",
       "      <td>Semiconductors, Electronics, Electrical Engine...</td>\n",
       "      <td>South Korea</td>\n",
       "      <td>266,673</td>\n",
       "      <td>3.8</td>\n",
       "      <td>Suwon</td>\n",
       "    </tr>\n",
       "    <tr>\n",
       "      <th>1</th>\n",
       "      <td>2</td>\n",
       "      <td>Microsoft</td>\n",
       "      <td>MSFT</td>\n",
       "      <td>IT, Internet, Software &amp; Services</td>\n",
       "      <td>United States</td>\n",
       "      <td>221,000</td>\n",
       "      <td>4.4</td>\n",
       "      <td>Redmond</td>\n",
       "    </tr>\n",
       "    <tr>\n",
       "      <th>2</th>\n",
       "      <td>3</td>\n",
       "      <td>IBM</td>\n",
       "      <td>IBM</td>\n",
       "      <td>Semiconductors, Electronics, Electrical Engine...</td>\n",
       "      <td>United States</td>\n",
       "      <td>250,000</td>\n",
       "      <td>4.2</td>\n",
       "      <td>Armonk</td>\n",
       "    </tr>\n",
       "    <tr>\n",
       "      <th>3</th>\n",
       "      <td>4</td>\n",
       "      <td>Alphabet</td>\n",
       "      <td>GOOG</td>\n",
       "      <td>IT, Internet, Software &amp; Services</td>\n",
       "      <td>United States</td>\n",
       "      <td>156,500</td>\n",
       "      <td>4.5</td>\n",
       "      <td>Mountain View</td>\n",
       "    </tr>\n",
       "    <tr>\n",
       "      <th>4</th>\n",
       "      <td>5</td>\n",
       "      <td>Apple</td>\n",
       "      <td>AAPL</td>\n",
       "      <td>Semiconductors, Electronics, Electrical Engine...</td>\n",
       "      <td>United States</td>\n",
       "      <td>154,000</td>\n",
       "      <td>4.1</td>\n",
       "      <td>Cupertino</td>\n",
       "    </tr>\n",
       "  </tbody>\n",
       "</table>\n",
       "</div>"
      ],
      "text/plain": [
       "   Forbes Ranking             Employer     TICKER  \\\n",
       "0               1  Samsung Electronics  005930.KS   \n",
       "1               2            Microsoft       MSFT   \n",
       "2               3                  IBM        IBM   \n",
       "3               4             Alphabet       GOOG   \n",
       "4               5                Apple       AAPL   \n",
       "\n",
       "                                              Sector        Country  \\\n",
       "0  Semiconductors, Electronics, Electrical Engine...    South Korea   \n",
       "1                  IT, Internet, Software & Services  United States   \n",
       "2  Semiconductors, Electronics, Electrical Engine...  United States   \n",
       "3                  IT, Internet, Software & Services  United States   \n",
       "4  Semiconductors, Electronics, Electrical Engine...  United States   \n",
       "\n",
       "  Number of employees  Glassdoor Rating        HQ City  \n",
       "0             266,673               3.8          Suwon  \n",
       "1             221,000               4.4        Redmond  \n",
       "2             250,000               4.2         Armonk  \n",
       "3             156,500               4.5  Mountain View  \n",
       "4             154,000               4.1      Cupertino  "
      ]
     },
     "execution_count": 6,
     "metadata": {},
     "output_type": "execute_result"
    }
   ],
   "source": [
    "#initial clean of data:\n",
    "employers_df=employers_df.replace('South Kore','South Korea')\n",
    "employers_df=employers_df.rename(columns={'RANK':'Forbes Ranking','NAME':'Employer','City':'HQ City','INDUSTRIES':'Sector','EMPLOYEES':'Number of employees'})\n",
    "employers_df.set_index('Forbes Ranking')\n",
    "\n",
    "employers_df.head()"
   ]
  },
  {
   "cell_type": "code",
   "execution_count": 8,
   "id": "ea7eba41",
   "metadata": {},
   "outputs": [
    {
     "data": {
      "text/plain": [
       "Country\n",
       "United States           40\n",
       "Germany                 17\n",
       "France                   8\n",
       "Italy                    6\n",
       "Japan                    5\n",
       "South Korea              4\n",
       "China                    4\n",
       "Switzerland              3\n",
       "Netherlands              3\n",
       "Canada                   2\n",
       "United Kingdom           2\n",
       "Saudi Arabia             1\n",
       "Singapore                1\n",
       "Sweden                   1\n",
       "India                    1\n",
       "United Arab Emirates     1\n",
       "Austria                  1\n",
       "Name: Forbes Ranking, dtype: int64"
      ]
     },
     "execution_count": 8,
     "metadata": {},
     "output_type": "execute_result"
    }
   ],
   "source": [
    "#American and German companies account for more than half of the top 100\n",
    "countrygroup=employers_df.groupby('Country')\n",
    "countrygroup=countrygroup['Forbes Ranking'].count().sort_values(ascending=False)\n",
    "countrygroup"
   ]
  },
  {
   "cell_type": "code",
   "execution_count": 9,
   "id": "8bf09648",
   "metadata": {},
   "outputs": [
    {
     "data": {
      "text/plain": [
       "Sector\n",
       "IT, Internet, Software & Services                                                       12\n",
       "Aerospace & Defense                                                                     10\n",
       "Automotive (Automotive and Suppliers)                                                   10\n",
       "Banking and Financial Services                                                          10\n",
       "Retail and Wholesale                                                                     8\n",
       "Clothing, Shoes, Sports Equipment                                                        7\n",
       "Engineering, Manufacturing                                                               7\n",
       "Semiconductors, Electronics, Electrical Engineering, Technology Hardware & Equipment     6\n",
       "Drugs & Biotechnology                                                                    6\n",
       "Utilities                                                                                4\n",
       "Conglomerate                                                                             4\n",
       "Transportation and Logistics                                                             3\n",
       "Travel & Leisure                                                                         3\n",
       "Food, Soft Beverages, Alcohol & Tobacco                                                  2\n",
       "Packaged Goods                                                                           2\n",
       "Construction, Oil & Gas Operations, Mining and Chemicals                                 2\n",
       "Health Care Equipment & Services                                                         1\n",
       "Media & Advertising                                                                      1\n",
       "Telecommunications Services, Cable Supplier                                              1\n",
       "Healthcare & Social                                                                      1\n",
       "Name: Sector, dtype: int64"
      ]
     },
     "execution_count": 9,
     "metadata": {},
     "output_type": "execute_result"
    }
   ],
   "source": [
    "sectorgroup=employers_df.groupby('Sector')\n",
    "sectorgroup=sectorgroup['Sector'].count().sort_values(ascending=False)\n",
    "sectorgroup"
   ]
  },
  {
   "cell_type": "code",
   "execution_count": 12,
   "id": "56b3d0d2",
   "metadata": {},
   "outputs": [],
   "source": [
    "bins=[0, 100000, 250000, 500000, 2000000]\n",
    "groups=[\"0 to \\n99,999\",\"100,000 to\\n249,999\", \"250,000 to\\n499,999\",\"500,000+\" ]\n",
    "\n",
    "# employers_df['Number of employees']=employers_df['Number of employees'].str.replace(',','')\n",
    "employers_df['Number of employees']=employers_df['Number of employees'].astype(int)\n",
    "employers_df['company_size_bins'] = pd.cut(employers_df['Number of employees'],bins,labels=groups,include_lowest=True)"
   ]
  },
  {
   "cell_type": "code",
   "execution_count": 15,
   "id": "d01f16d0",
   "metadata": {},
   "outputs": [
    {
     "data": {
      "image/png": "[encoded data removed]",
      "text/plain": [
       "<Figure size 432x288 with 1 Axes>"
      ]
     },
     "metadata": {
      "needs_background": "light"
     },
     "output_type": "display_data"
    },
    {
     "data": {
      "text/plain": [
       "<Figure size 432x288 with 0 Axes>"
      ]
     },
     "metadata": {},
     "output_type": "display_data"
    }
   ],
   "source": [
    "companysize=employers_df['company_size_bins']\n",
    "plt.hist(np.sort(companysize))\n",
    "plt.xlabel(\"Company size\", fontsize=16)\n",
    "plt.ylabel(\"Frequency\", fontsize=16)\n",
    "plt.title(\"Number of companies in Top 100 \\nby workforce size\",fontsize=16)\n",
    "plt.show()\n",
    "plt.savefig('images/countbysize.png')"
   ]
  },
  {
   "cell_type": "markdown",
   "id": "331a109a",
   "metadata": {},
   "source": [
    "## Part 2: Financial analysis of listed companies within Forbes list:\n",
    "- Research question: do good employers make good investments?\n",
    "- How do these companies stack up as investments on metrics such as: 12 month stock performance; return on equity, mean analysts recommendations.\n",
    "- Yfinance wrapper library used to make call to the Yahoo Finance endpoint. Provides the abovementioned metrics within a dictionary through the method 'Ticker.info()'"
   ]
  },
  {
   "cell_type": "code",
   "execution_count": null,
   "id": "7bfe11e0",
   "metadata": {},
   "outputs": [],
   "source": [
    "employers_financials=employers_df[['Forbes Ranking', 'Employer', 'TICKER','Sector','Country','Glassdoor Rating']]\n",
    "employers_financials.set_index('Forbes Ranking')"
   ]
  },
  {
   "cell_type": "code",
   "execution_count": null,
   "id": "3377318b",
   "metadata": {},
   "outputs": [],
   "source": [
    "#This removes the companies without a ticker code\n",
    "employers_reduced = employers_financials[employers_financials[\"TICKER\"] != 'none'].reset_index(drop=True)\n"
   ]
  },
  {
   "cell_type": "code",
   "execution_count": null,
   "id": "36e412a7",
   "metadata": {},
   "outputs": [],
   "source": [
    "#This adds new columns for the data that will be brought in using Yfinance\n",
    "employers_reduced['1 year stock performance']=\"\"\n",
    "employers_reduced['return on equity']=\"\"\n",
    "employers_reduced['Analyst Recommendation Mean']=\"\"\n",
    "employers_reduced"
   ]
  },
  {
   "cell_type": "code",
   "execution_count": null,
   "id": "ee65a8d4",
   "metadata": {},
   "outputs": [],
   "source": [
    "#This sets up a loop through the rows in the table and searchs each company on its ticker code\n",
    "#The relevant information is added to the empty columns.\n",
    "#It also prints the company information to the screen.\n",
    "#If any of the data is missing, the loop returns \"No data found\"\n",
    "\n",
    "print('Finding stock data..')\n",
    "print(\"-\"*20)\n",
    "for index,row in employers_reduced.iterrows():\n",
    "    company=employers_reduced.loc[index,'Employer']\n",
    "    ticker=employers_reduced.loc[index,'TICKER']\n",
    "    stock_data=yf.Ticker(ticker)\n",
    "    try:\n",
    "        employers_reduced.loc[index, \"1 year stock performance\"]=round(stock_data.info[\"52WeekChange\"]*100,2)\n",
    "        employers_reduced.loc[index, \"return on equity\"]=round(stock_data.info[\"returnOnEquity\"]*100,2)\n",
    "        employers_reduced.loc[index, \"Analyst Recommendation Mean\"]=stock_data.info['recommendationMean']\n",
    "        \n",
    "    except:\n",
    "        employers_reduced.loc[index, \"1 year stock performance\"]=\"No data found\"\n",
    "        employers_reduced.loc[index, \"return on equity\"]=\"No data found\"\n",
    "        employers_reduced.loc[index, \"Analyst Recommendation Mean\"]=\"No data found\"\n",
    "        \n",
    "        \n",
    "    print(f\"{company} ({ticker}): {employers_reduced.loc[index, '1 year stock performance']}% 1yr stock performance; {employers_reduced.loc[index, 'return on equity']}% RoE; Mean Analyst Rec: {employers_reduced.loc[index, 'Analyst Recommendation Mean']}\")\n",
    "    print(\"-\"*20)\n",
    "\n",
    "employers_reduced"
   ]
  },
  {
   "cell_type": "code",
   "execution_count": null,
   "id": "0c120137",
   "metadata": {},
   "outputs": [],
   "source": []
  }
 ],
 "metadata": {
  "kernelspec": {
   "display_name": "Python 3 (ipykernel)",
   "language": "python",
   "name": "python3"
  },
  "language_info": {
   "codemirror_mode": {
    "name": "ipython",
    "version": 3
   },
   "file_extension": ".py",
   "mimetype": "text/x-python",
   "name": "python",
   "nbconvert_exporter": "python",
   "pygments_lexer": "ipython3",
   "version": "3.9.12"
  }
 },
 "nbformat": 4,
 "nbformat_minor": 5
}
