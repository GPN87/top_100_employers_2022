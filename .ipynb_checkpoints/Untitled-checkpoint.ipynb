{
 "cells": [
  {
   "cell_type": "markdown",
   "id": "5e9b5b97",
   "metadata": {},
   "source": []
  },
  {
   "cell_type": "code",
   "execution_count": 59,
   "id": "18a49168",
   "metadata": {},
   "outputs": [],
   "source": [
    "import pandas as pd\n",
    "import matplotlib.pyplot as plt\n",
    "import scipy.stats as st\n",
    "import seaborn as sns\n",
    "import numpy as np\n",
    "import yfinance as yf"
   ]
  },
  {
   "cell_type": "markdown",
   "id": "bd5b6c18",
   "metadata": {},
   "source": [
    "Exploratory Data Analysis - The Forbes 2022 list of the top 100 employers\n",
    "- Who are they?\n",
    "- Where do they operate?\n",
    "- How big are they by employee size?"
   ]
  },
  {
   "cell_type": "code",
   "execution_count": 131,
   "id": "3b7223a8",
   "metadata": {},
   "outputs": [],
   "source": [
    "# The original .csv of the 'Forbes Top 100 Employer Rankings'\n",
    "# The list has been merged with each company's:\n",
    "#     a) Overall Glassdoor Rating as at January 2023\n",
    "#     b) Ticker symbol to enable financial analysis in section two\n",
    "#     c) City of Headquarters  \n",
    "\n",
    "filepath = \"resources/employers_clean.csv\"\n",
    "employers_df = pd.read_csv(filepath)"
   ]
  },
  {
   "cell_type": "code",
   "execution_count": 155,
   "id": "07f45de7",
   "metadata": {},
   "outputs": [
    {
     "data": {
      "text/html": [
       "<div>\n",
       "<style scoped>\n",
       "    .dataframe tbody tr th:only-of-type {\n",
       "        vertical-align: middle;\n",
       "    }\n",
       "\n",
       "    .dataframe tbody tr th {\n",
       "        vertical-align: top;\n",
       "    }\n",
       "\n",
       "    .dataframe thead th {\n",
       "        text-align: right;\n",
       "    }\n",
       "</style>\n",
       "<table border=\"1\" class=\"dataframe\">\n",
       "  <thead>\n",
       "    <tr style=\"text-align: right;\">\n",
       "      <th></th>\n",
       "      <th>Forbes Ranking</th>\n",
       "      <th>Employer</th>\n",
       "      <th>TICKER</th>\n",
       "      <th>Sector</th>\n",
       "      <th>Country</th>\n",
       "      <th>Number of employees</th>\n",
       "      <th>Glassdoor Rating</th>\n",
       "      <th>HQ City</th>\n",
       "      <th>company_size_bins</th>\n",
       "    </tr>\n",
       "  </thead>\n",
       "  <tbody>\n",
       "    <tr>\n",
       "      <th>0</th>\n",
       "      <td>1</td>\n",
       "      <td>Samsung Electronics</td>\n",
       "      <td>005930.KS</td>\n",
       "      <td>Semiconductors, Electronics, Electrical Engine...</td>\n",
       "      <td>South Korea</td>\n",
       "      <td>266673</td>\n",
       "      <td>3.8</td>\n",
       "      <td>Suwon</td>\n",
       "      <td>250,000 to 499,999</td>\n",
       "    </tr>\n",
       "    <tr>\n",
       "      <th>1</th>\n",
       "      <td>2</td>\n",
       "      <td>Microsoft</td>\n",
       "      <td>MSFT</td>\n",
       "      <td>IT, Internet, Software &amp; Services</td>\n",
       "      <td>United States</td>\n",
       "      <td>221000</td>\n",
       "      <td>4.4</td>\n",
       "      <td>Redmond</td>\n",
       "      <td>100000 to 249,999</td>\n",
       "    </tr>\n",
       "    <tr>\n",
       "      <th>2</th>\n",
       "      <td>3</td>\n",
       "      <td>IBM</td>\n",
       "      <td>IBM</td>\n",
       "      <td>Semiconductors, Electronics, Electrical Engine...</td>\n",
       "      <td>United States</td>\n",
       "      <td>250000</td>\n",
       "      <td>4.2</td>\n",
       "      <td>Armonk</td>\n",
       "      <td>100000 to 249,999</td>\n",
       "    </tr>\n",
       "    <tr>\n",
       "      <th>3</th>\n",
       "      <td>4</td>\n",
       "      <td>Alphabet</td>\n",
       "      <td>GOOG</td>\n",
       "      <td>IT, Internet, Software &amp; Services</td>\n",
       "      <td>United States</td>\n",
       "      <td>156500</td>\n",
       "      <td>4.5</td>\n",
       "      <td>Mountain View</td>\n",
       "      <td>100000 to 249,999</td>\n",
       "    </tr>\n",
       "    <tr>\n",
       "      <th>4</th>\n",
       "      <td>5</td>\n",
       "      <td>Apple</td>\n",
       "      <td>AAPL</td>\n",
       "      <td>Semiconductors, Electronics, Electrical Engine...</td>\n",
       "      <td>United States</td>\n",
       "      <td>154000</td>\n",
       "      <td>4.1</td>\n",
       "      <td>Cupertino</td>\n",
       "      <td>100000 to 249,999</td>\n",
       "    </tr>\n",
       "  </tbody>\n",
       "</table>\n",
       "</div>"
      ],
      "text/plain": [
       "   Forbes Ranking             Employer     TICKER  \\\n",
       "0               1  Samsung Electronics  005930.KS   \n",
       "1               2            Microsoft       MSFT   \n",
       "2               3                  IBM        IBM   \n",
       "3               4             Alphabet       GOOG   \n",
       "4               5                Apple       AAPL   \n",
       "\n",
       "                                              Sector        Country  \\\n",
       "0  Semiconductors, Electronics, Electrical Engine...    South Korea   \n",
       "1                  IT, Internet, Software & Services  United States   \n",
       "2  Semiconductors, Electronics, Electrical Engine...  United States   \n",
       "3                  IT, Internet, Software & Services  United States   \n",
       "4  Semiconductors, Electronics, Electrical Engine...  United States   \n",
       "\n",
       "   Number of employees  Glassdoor Rating        HQ City   company_size_bins  \n",
       "0               266673               3.8          Suwon  250,000 to 499,999  \n",
       "1               221000               4.4        Redmond   100000 to 249,999  \n",
       "2               250000               4.2         Armonk   100000 to 249,999  \n",
       "3               156500               4.5  Mountain View   100000 to 249,999  \n",
       "4               154000               4.1      Cupertino   100000 to 249,999  "
      ]
     },
     "execution_count": 155,
     "metadata": {},
     "output_type": "execute_result"
    }
   ],
   "source": [
    "#initial clean of data:\n",
    "employers_df=employers_df.replace('South Kore','South Korea')\n",
    "employers_df=employers_df.rename(columns={'RANK':'Forbes Ranking','NAME':'Employer','City':'HQ City','INDUSTRIES':'Sector','EMPLOYEES':'Number of employees'})\n",
    "employers_df.set_index('Forbes Ranking')\n",
    "\n",
    "employers_df.head()"
   ]
  },
  {
   "cell_type": "code",
   "execution_count": 148,
   "id": "ea7eba41",
   "metadata": {},
   "outputs": [
    {
     "data": {
      "text/plain": [
       "Country\n",
       "United States           40\n",
       "Germany                 17\n",
       "France                   8\n",
       "Italy                    6\n",
       "Japan                    5\n",
       "South Korea              4\n",
       "China                    4\n",
       "Switzerland              3\n",
       "Netherlands              3\n",
       "Canada                   2\n",
       "United Kingdom           2\n",
       "Saudi Arabia             1\n",
       "Singapore                1\n",
       "Sweden                   1\n",
       "India                    1\n",
       "United Arab Emirates     1\n",
       "Austria                  1\n",
       "Name: Forbes Ranking, dtype: int64"
      ]
     },
     "execution_count": 148,
     "metadata": {},
     "output_type": "execute_result"
    }
   ],
   "source": [
    "#American and German companies account for more than half of the top 100\n",
    "countrygroup=employers_df.groupby('Country')\n",
    "countrygroup=countrygroup['Forbes Ranking'].count().sort_values(ascending=False)\n",
    "countrygroup"
   ]
  },
  {
   "cell_type": "code",
   "execution_count": 149,
   "id": "8bf09648",
   "metadata": {},
   "outputs": [
    {
     "data": {
      "text/plain": [
       "Sector\n",
       "IT, Internet, Software & Services                                                       12\n",
       "Aerospace & Defense                                                                     10\n",
       "Automotive (Automotive and Suppliers)                                                   10\n",
       "Banking and Financial Services                                                          10\n",
       "Retail and Wholesale                                                                     8\n",
       "Clothing, Shoes, Sports Equipment                                                        7\n",
       "Engineering, Manufacturing                                                               7\n",
       "Semiconductors, Electronics, Electrical Engineering, Technology Hardware & Equipment     6\n",
       "Drugs & Biotechnology                                                                    6\n",
       "Utilities                                                                                4\n",
       "Conglomerate                                                                             4\n",
       "Transportation and Logistics                                                             3\n",
       "Travel & Leisure                                                                         3\n",
       "Food, Soft Beverages, Alcohol & Tobacco                                                  2\n",
       "Packaged Goods                                                                           2\n",
       "Construction, Oil & Gas Operations, Mining and Chemicals                                 2\n",
       "Health Care Equipment & Services                                                         1\n",
       "Media & Advertising                                                                      1\n",
       "Telecommunications Services, Cable Supplier                                              1\n",
       "Healthcare & Social                                                                      1\n",
       "Name: Sector, dtype: int64"
      ]
     },
     "execution_count": 149,
     "metadata": {},
     "output_type": "execute_result"
    }
   ],
   "source": [
    "sectorgroup=employers_df.groupby('Sector')\n",
    "sectorgroup=sectorgroup['Sector'].count().sort_values(ascending=False)\n",
    "sectorgroup"
   ]
  },
  {
   "cell_type": "code",
   "execution_count": 157,
   "id": "56b3d0d2",
   "metadata": {},
   "outputs": [],
   "source": [
    "bins=[0, 100000, 250000, 500000, 2000000]\n",
    "groups=[\"0 to 99,999\",\"100,000 to 249,999\", \"250,000 to 499,999\",\"500,000+\" ]\n",
    "\n",
    "# employers_df['Number of employees']=employers_df['Number of employees'].str.replace(',','')\n",
    "employers_df['Number of employees']=employers_df['Number of employees'].astype(int)\n",
    "employers_df['company_size_bins'] = pd.cut(employers_df['Number of employees'],bins,labels=groups,include_lowest=True)"
   ]
  },
  {
   "cell_type": "code",
   "execution_count": 158,
   "id": "d01f16d0",
   "metadata": {},
   "outputs": [
    {
     "data": {
      "image/png": "[encoded data removed]",
      "text/plain": [
       "<Figure size 432x288 with 1 Axes>"
      ]
     },
     "metadata": {
      "needs_background": "light"
     },
     "output_type": "display_data"
    }
   ],
   "source": [
    "companysize=employers_df['company_size_bins']\n",
    "plt.hist(np.sort(companysize))\n",
    "plt.xlabel(\"Company size\")\n",
    "plt.ylabel(\"Frequency\")\n",
    "plt.show()"
   ]
  },
  {
   "cell_type": "code",
   "execution_count": null,
   "id": "7bfe11e0",
   "metadata": {},
   "outputs": [],
   "source": []
  }
 ],
 "metadata": {
  "kernelspec": {
   "display_name": "Python 3 (ipykernel)",
   "language": "python",
   "name": "python3"
  },
  "language_info": {
   "codemirror_mode": {
    "name": "ipython",
    "version": 3
   },
   "file_extension": ".py",
   "mimetype": "text/x-python",
   "name": "python",
   "nbconvert_exporter": "python",
   "pygments_lexer": "ipython3",
   "version": "3.9.12"
  }
 },
 "nbformat": 4,
 "nbformat_minor": 5
}
